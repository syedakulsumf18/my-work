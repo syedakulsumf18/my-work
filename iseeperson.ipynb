{
 "cells": [
  {
   "cell_type": "code",
   "execution_count": null,
   "id": "af567f36",
   "metadata": {},
   "outputs": [],
   "source": [
    "import numpy as np\n",
    "import cv2\n",
    "from pathlib import Path\n",
    "from IPython.display import Image\n",
    "import torch"
   ]
  },
  {
   "cell_type": "code",
   "execution_count": null,
   "id": "09e99d61",
   "metadata": {},
   "outputs": [],
   "source": [
    "model = torch.hub.load('ultralytics/yolov5', 'yolov5m', pretrained=True)"
   ]
  },
  {
   "cell_type": "code",
   "execution_count": null,
   "id": "4aedb0de",
   "metadata": {},
   "outputs": [
    {
     "name": "stderr",
     "output_type": "stream",
     "text": [
      "Using cache found in C:\\Users\\SYED WALI/.cache\\torch\\hub\\ultralytics_yolov5_master\n",
      "YOLOv5  2024-5-28 Python-3.9.8 torch-1.8.1+cpu CPU\n",
      "\n",
      "Fusing layers... \n",
      "YOLOv5m summary: 290 layers, 21172173 parameters, 0 gradients, 48.9 GFLOPs\n",
      "Adding AutoShape... \n"
     ]
    },
    {
     "name": "stdout",
     "output_type": "stream",
     "text": [
      "Press q to exit the object detection window!\n"
     ]
    }
   ],
   "source": [
    "import numpy as np\n",
    "import cv2\n",
    "from pathlib import Path\n",
    "import pyttsx3\n",
    "import torch\n",
    "\n",
    "# Load YOLOv5 model\n",
    "model = torch.hub.load('ultralytics/yolov5', 'yolov5m', pretrained=True)\n",
    "\n",
    "# Initialize pyttsx3\n",
    "engine = pyttsx3.init()\n",
    "\n",
    "print(\"Press q to exit the object detection window!\")\n",
    "\n",
    "cap = cv2.VideoCapture(0)\n",
    "while True:\n",
    "    ret, image_np = cap.read()\n",
    "    results = model(image_np)\n",
    "    df_result = results.pandas().xyxy[0]\n",
    "    dict_result = df_result.to_dict()\n",
    "    scores = list(dict_result[\"confidence\"].values())\n",
    "    labels = list(dict_result[\"name\"].values())\n",
    "\n",
    "    list_boxes = []\n",
    "    for dict_item in df_result.to_dict('records'):\n",
    "        list_boxes.append(list(dict_item.values())[:4])\n",
    "    count = 0\n",
    "\n",
    "    for xmin, ymin, xmax, ymax in list_boxes:\n",
    "        image_np = cv2.rectangle(image_np, pt1=(int(xmin), int(ymin)), pt2=(int(xmax), int(ymax)),\n",
    "                                 color=(255, 0, 0), thickness=2)\n",
    "        cv2.putText(image_np, f\"{labels[count]}: {round(scores[count], 2)}\", (int(xmin), int(ymin) - 10),\n",
    "                    cv2.FONT_HERSHEY_SIMPLEX, 0.9, (36, 255, 12), 2)\n",
    "        # Speak out the detected object\n",
    "        engine.say(f\"I see {labels[count]}\")\n",
    "        engine.runAndWait()\n",
    "        count = count + 1\n",
    "\n",
    "    cv2.imshow('Object Detector', image_np)\n",
    "\n",
    "    if cv2.waitKey(1) & 0xFF == ord('q'):\n",
    "        cap.release()\n",
    "        cv2.destroyAllWindows()\n",
    "        print(\"The window has been exited!\")\n",
    "        break\n"
   ]
  },
  {
   "cell_type": "code",
   "execution_count": null,
   "id": "0e40e8ee",
   "metadata": {},
   "outputs": [],
   "source": [
    "q"
   ]
  }
 ],
 "metadata": {
  "kernelspec": {
   "display_name": "Python 3 (ipykernel)",
   "language": "python",
   "name": "python3"
  },
  "language_info": {
   "codemirror_mode": {
    "name": "ipython",
    "version": 3
   },
   "file_extension": ".py",
   "mimetype": "text/x-python",
   "name": "python",
   "nbconvert_exporter": "python",
   "pygments_lexer": "ipython3",
   "version": "3.9.8"
  }
 },
 "nbformat": 4,
 "nbformat_minor": 5
}
